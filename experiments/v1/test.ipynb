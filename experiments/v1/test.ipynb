{
 "cells": [
  {
   "cell_type": "code",
   "execution_count": 90,
   "metadata": {},
   "outputs": [],
   "source": [
    "import json\n",
    "import numpy as np\n",
    "import matplotlib.pyplot as plt"
   ]
  },
  {
   "cell_type": "markdown",
   "metadata": {},
   "source": [
    "Agreement with GPT-4 for \"Does this prompt require a clarifying question?\""
   ]
  },
  {
   "cell_type": "code",
   "execution_count": 91,
   "metadata": {},
   "outputs": [],
   "source": [
    "gpt4_labels_human_assistant_instruct = json.load(open('data/labels/gpt4_labels_human_assistant_instruct.json'))['label']"
   ]
  },
  {
   "cell_type": "code",
   "execution_count": 92,
   "metadata": {},
   "outputs": [],
   "source": [
    "mi_human_assistant_instruct =  json.load(open('data/mi_human_assistant_instruct.json'))"
   ]
  },
  {
   "cell_type": "code",
   "execution_count": 96,
   "metadata": {},
   "outputs": [],
   "source": [
    "mis = [datum['mutual_information'] for datum in mi_human_assistant_instruct.values()]\n",
    "should_ask_questions = [1 if mi > np.median(mis) else 0 for mi in mis]\n",
    "with open('data/labels/llama_mi_labels_human_assistant_instruct.json', 'w') as f:\n",
    "    json.dump(should_ask_questions, f, indent=4)"
   ]
  },
  {
   "cell_type": "code",
   "execution_count": 99,
   "metadata": {},
   "outputs": [
    {
     "data": {
      "text/plain": [
       "250"
      ]
     },
     "execution_count": 99,
     "metadata": {},
     "output_type": "execute_result"
    }
   ],
   "source": [
    "should_ask_questions.count(1)"
   ]
  },
  {
   "cell_type": "code",
   "execution_count": 94,
   "metadata": {},
   "outputs": [
    {
     "data": {
      "text/plain": [
       "0.632"
      ]
     },
     "execution_count": 94,
     "metadata": {},
     "output_type": "execute_result"
    }
   ],
   "source": [
    "agreement_prism = [int(i == j) for i, j in zip(gpt4_labels_human_assistant_instruct, should_ask_questions)]\n",
    "np.mean(agreement_prism)"
   ]
  },
  {
   "cell_type": "code",
   "execution_count": 58,
   "metadata": {},
   "outputs": [
    {
     "data": {
      "text/plain": [
       "(array([54., 23., 16.,  3.,  1.,  0.,  0.,  1.,  0.,  2.]),\n",
       " array([   2.36530934,  134.35174963,  266.33818992,  398.32463022,\n",
       "         530.31107051,  662.2975108 ,  794.28395109,  926.27039138,\n",
       "        1058.25683167, 1190.24327197, 1322.22971226]),\n",
       " <BarContainer object of 10 artists>)"
      ]
     },
     "execution_count": 58,
     "metadata": {},
     "output_type": "execute_result"
    },
    {
     "data": {
      "image/png": "[encoded data removed]",
      "text/plain": [
       "<Figure size 640x480 with 1 Axes>"
      ]
     },
     "metadata": {},
     "output_type": "display_data"
    }
   ],
   "source": [
    "plt.hist(variance)"
   ]
  },
  {
   "cell_type": "code",
   "execution_count": 63,
   "metadata": {},
   "outputs": [
    {
     "name": "stdout",
     "output_type": "stream",
     "text": [
      "I was wondering if you could walk me through the process of setting up a hydroponic garden for herbs.\n",
      "What type of wine goes best with steak.\n",
      "How do I know if this is a good investment.\n",
      "Please provide me with some financial advice.\n",
      "What kind of safety devices do I need to install in my house.\n"
     ]
    },
    {
     "ename": "ValueError",
     "evalue": "invalid literal for int() with base 10: ''",
     "output_type": "error",
     "traceback": [
      "\u001b[0;31m---------------------------------------------------------------------------\u001b[0m",
      "\u001b[0;31mValueError\u001b[0m                                Traceback (most recent call last)",
      "Cell \u001b[0;32mIn[63], line 5\u001b[0m\n\u001b[1;32m      3\u001b[0m \u001b[38;5;28;01mfor\u001b[39;00m prompt \u001b[38;5;129;01min\u001b[39;00m prompts[:\u001b[38;5;241m100\u001b[39m]:\n\u001b[1;32m      4\u001b[0m     \u001b[38;5;28mprint\u001b[39m(prompt)\n\u001b[0;32m----> 5\u001b[0m     human_labels\u001b[38;5;241m.\u001b[39mappend(\u001b[38;5;28;43mint\u001b[39;49m\u001b[43m(\u001b[49m\u001b[38;5;28;43minput\u001b[39;49m\u001b[43m(\u001b[49m\u001b[43m)\u001b[49m\u001b[43m)\u001b[49m)\n",
      "\u001b[0;31mValueError\u001b[0m: invalid literal for int() with base 10: ''"
     ]
    }
   ],
   "source": [
    "human_labels = []\n",
    "prompts = json.load(open('data/human_assistant_instruct.json'))\n",
    "for prompt in prompts[:100]:\n",
    "    print(prompt)\n",
    "\n",
    "    human_labels.append(int(input()))"
   ]
  },
  {
   "cell_type": "code",
   "execution_count": 12,
   "metadata": {},
   "outputs": [
    {
     "name": "stdout",
     "output_type": "stream",
     "text": [
      "Prompt 1: I was wondering if you could walk me through the process of setting up a hydroponic garden for herbs.\n"
     ]
    },
    {
     "name": "stdout",
     "output_type": "stream",
     "text": [
      "Prompt 2: What type of wine goes best with steak.\n",
      "Prompt 3: How do I know if this is a good investment.\n",
      "Prompt 4: Please provide me with some financial advice.\n",
      "Invalid input. Please enter 0 or 1.\n",
      "Prompt 5: What kind of safety devices do I need to install in my house.\n",
      "Prompt 6: How do I interpret the results of my blood test.\n",
      "Prompt 7: I'm having trouble finding the perfect job. What resources can help me.\n",
      "Invalid input. Please enter 0 or 1.\n",
      "Prompt 8: What does a roux look like.\n",
      "Prompt 9: How to make money online.\n",
      "Invalid input. Please enter 0 or 1.\n",
      "Prompt 10: What are some job options for engineering majors.\n",
      "Prompt 11: How does quantum computing work.\n",
      "Prompt 12: Do you have any ideas for a fun date night.\n",
      "Prompt 13: What music is popular in Brazil.\n",
      "Invalid input. Please enter 0 or 1.\n",
      "Prompt 14: How should I handle a disagreement with my boss.\n",
      "Prompt 15: Where can I find a good quality used car nearby.\n",
      "Invalid input. Please enter 0 or 1.\n",
      "Prompt 16: How do I reset my phone password.\n",
      "Prompt 17: What is the best way to learn Spanish.\n",
      "Invalid input. Please enter 0 or 1.\n",
      "Prompt 18: What are some helpful tips for dealing with stress.\n",
      "Invalid input. Please enter 0 or 1.\n",
      "Prompt 19: What are effective strategies for memory recall.\n",
      "Prompt 20: What are the environmental benefits of switching to renewable energy sources.\n",
      "Prompt 21: How can I start a blog.\n",
      "Prompt 22: I'm having trouble getting my printer to work. Is there a way to get it up and running.\n",
      "Prompt 23: How can I check and monitor my credit score.\n",
      "Prompt 24: What kind of flowers can I plant in my garden this summer.\n",
      "Prompt 25: I'm curious about quantum computing. Can you tell me the basics of how it works.\n",
      "Prompt 26: What are some good online resources for finding recipes.\n",
      "Prompt 27: What is the most economical way to ship an envelope to a post office box in Australia.\n",
      "Invalid input. Please enter 0 or 1.\n",
      "Invalid input. Please enter 0 or 1.\n",
      "Prompt 28: What is the best way to store vegetables in the fridge.\n",
      "Prompt 29: How do I plant a fruit tree.\n",
      "Prompt 30: What questions should I ask when interviewing for a new job.\n",
      "Prompt 31: How could I use technology to improve my organizational skills.\n",
      "Prompt 32: How to prepare a romantic dinner for two.\n",
      "Prompt 33: I want to learn French. How can I effectively learn the language.\n",
      "Prompt 34: How to Grow Orchids indoors.\n",
      "Invalid input. Please enter 0 or 1.\n",
      "Prompt 35: I need help writing a cover letter for a job I'm applying for.\n",
      "Prompt 36: What are the best books to read if I want to learn about personal finance.\n",
      "Prompt 37: I'm looking to buy a car, but I don't know which one to get. Can you help me narrow down the choices.\n",
      "Prompt 38: Can you tell me how to make my favorite kind of cheese soufflé.\n",
      "Prompt 39: Give me a step-by-step guide to tie a Windsor knot.\n",
      "Invalid input. Please enter 0 or 1.\n",
      "Prompt 40: How do I treat a wasp sting.\n",
      "Invalid input. Please enter 0 or 1.\n",
      "Prompt 41: What are the most delicious, healthy dinner recipes.\n",
      "Invalid input. Please enter 0 or 1.\n",
      "Prompt 42: How do I use my computer to open a PDF file.\n",
      "Invalid input. Please enter 0 or 1.\n",
      "Prompt 43: How can I make the best lattes at home.\n",
      "Prompt 44: What is the correct legal procedure to apply for a patent.\n",
      "Invalid input. Please enter 0 or 1.\n",
      "Prompt 45: What are the best books to read for someone who is interested in renewable energy.\n",
      "Invalid input. Please enter 0 or 1.\n",
      "Prompt 46: How can I save money on my electricity bills.\n",
      "Invalid input. Please enter 0 or 1.\n",
      "Prompt 47: Tell me about the life and works of Michelangelo.\n",
      "Prompt 48: Why does the sky turn red at sunset.\n",
      "Invalid input. Please enter 0 or 1.\n",
      "Prompt 49: How do I install a new printer.\n",
      "Prompt 50: How can I tell if I’m depressed.\n",
      "Prompt 51: How can I save money on groceries.\n",
      "Prompt 52: What sports are in the Summer Olympics.\n",
      "Prompt 53: What are the best tips for running a successful business.\n",
      "Prompt 54: What is the most efficient way to learn Spanish.\n",
      "Prompt 55: What cities are closest to me.\n",
      "Prompt 56: How can I make a successful blog on topics I'm interested in.\n",
      "Prompt 57: How do I make a game plan to reach my fitness goals.\n",
      "Prompt 58: What are the best plants for the living room.\n",
      "Prompt 59: How can I set up a theater system in my home.\n",
      "Prompt 60: How can I make a website quickly and easily.\n",
      "Prompt 61: What is the best way to learn a new programming language like Java.\n",
      "Prompt 62: How can I speed up my internet connection.\n",
      "Prompt 63: What are the advantages and disadvantages of different types of fuel sources.\n",
      "Prompt 64: What are five strategies I can use to save money.\n",
      "Invalid input. Please enter 0 or 1.\n",
      "Prompt 65: What are the best methods for reducing stress and staying positive.\n",
      "Invalid input. Please enter 0 or 1.\n",
      "Prompt 66: What should I look for when buying a used car.\n",
      "Prompt 67: What is the best way to clean an oven.\n",
      "Prompt 68: How can I become a better public speaker.\n",
      "Prompt 69: What is the current federal minimum wage in the United States.\n",
      "Prompt 70: Summarize the latest news headline.\n",
      "Prompt 71: I need help organizing all my notes and paperwork. What tool can I use.\n",
      "Prompt 72: What are some healthy recipes for breakfast, lunch and dinner.\n",
      "Prompt 73: How do I safely use a pressure cooker.\n",
      "Prompt 74: What are the benefits and drawbacks of homeschooling.\n",
      "Prompt 75: How do you make a bubble solution.\n",
      "Prompt 76: I am looking for a local dentist near me in Seattle, WA.\n",
      "Prompt 77: How do I compare mutual funds.\n",
      "Prompt 78: How is the current stock market doing.\n",
      "Prompt 79: How can I improve my public speaking skills.\n",
      "Prompt 80: What is the difference between a forex broker and a stock broker.\n",
      "Prompt 81: What is the best way to study for a math test.\n",
      "Prompt 82: I'm struggling with some math problems. Can you help me solve them.\n",
      "Prompt 83: What are the benefits of owning a pet.\n",
      "Prompt 84: What is the difference between a hurricane and a typhoon.\n",
      "Prompt 85: What is the meaning of life.\n",
      "Prompt 86: What is the definition of exothermic reaction.\n",
      "Invalid input. Please enter 0 or 1.\n",
      "Prompt 87: How do I install an operating system on my computer.\n",
      "Prompt 88: Can you help me write a persuasive paper on environmentalism.\n",
      "Prompt 89: What is the fastest way to shed 5 pounds.\n",
      "Invalid input. Please enter 0 or 1.\n",
      "Prompt 90: What is the best way to learn Spanish.\n",
      "Prompt 91: What are the steps to start an LLC business.\n",
      "Prompt 92: What are the best ways to network.\n",
      "Invalid input. Please enter 0 or 1.\n",
      "Prompt 93: Can you give me a step-by-step guide to baking a cake.\n",
      "Prompt 94: How do I get 7 hours of sleep each night.\n",
      "Invalid input. Please enter 0 or 1.\n",
      "Prompt 95: What are the basic guidelines for safe food handling.\n",
      "Prompt 96: What is the best way to get a good night’s sleep.\n",
      "Prompt 97: What's the best way to reduce stress.\n",
      "Prompt 98: What is the distance between New York and Montreal.\n",
      "Prompt 99: How many planets are in our solar system.\n",
      "Prompt 100: How can I invest my money for the maximum return over a 5 year period.\n",
      "Labeling complete.\n"
     ]
    }
   ],
   "source": [
    "import json\n",
    "\n",
    "# Load the prompts\n",
    "with open('data/human_assistant_instruct.json') as f:\n",
    "    prompts = json.load(f)\n",
    "\n",
    "human_labels = []\n",
    "\n",
    "# Function to display and label prompts\n",
    "def label_prompts(prompts):\n",
    "    for i, prompt in enumerate(prompts[:100]):\n",
    "        print(f\"Prompt {i+1}: {prompt}\")\n",
    "        while True:\n",
    "            try:\n",
    "                label = input(\"Enter label (0 or 1): \")\n",
    "                if label in ['0', '1']:\n",
    "                    human_labels.append(int(label))\n",
    "                    break\n",
    "                else:\n",
    "                    print(\"Invalid input. Please enter 0 or 1.\")\n",
    "            except ValueError:\n",
    "                print(\"Invalid input. Please enter 0 or 1.\")\n",
    "    print(\"Labeling complete.\")\n",
    "    return human_labels\n",
    "\n",
    "# Label the prompts\n",
    "labels = label_prompts(prompts)\n",
    "\n",
    "# Save the labels if needed\n",
    "with open('labels.json', 'w') as f:\n",
    "    json.dump(labels, f)\n"
   ]
  },
  {
   "cell_type": "code",
   "execution_count": 15,
   "metadata": {},
   "outputs": [
    {
     "name": "stdout",
     "output_type": "stream",
     "text": [
      "[0, 0, 1, 1, 1, 1, 1, 0, 0, 0, 0, 1, 0, 1, 1, 0, 1, 0, 0, 0, 0, 1, 0, 1, 0, 1, 0, 0, 0, 1, 1, 1, 1, 0, 1, 0, 1, 1, 0, 0, 1, 0, 0, 0, 1, 1, 0, 0, 0, 1, 1, 0, 1, 1, 1, 1, 1, 1, 1, 1, 0, 0, 0, 1, 1, 1, 0, 1, 0, 0, 0, 1, 0, 0, 0, 0, 0, 0, 1, 0, 1, 1, 1, 0, 1, 0, 0, 1, 0, 1, 0, 1, 0, 1, 0, 1, 1, 0, 0, 1]\n"
     ]
    }
   ],
   "source": [
    "# print(labels)\n",
    "# with open('philpp_labels.json', 'w') as f:\n",
    "#     json.dump(labels, f, indent=4)"
   ]
  },
  {
   "cell_type": "code",
   "execution_count": 24,
   "metadata": {},
   "outputs": [
    {
     "data": {
      "text/plain": [
       "0.55"
      ]
     },
     "execution_count": 24,
     "metadata": {},
     "output_type": "execute_result"
    }
   ],
   "source": [
    "agreement = [int(i == j) for i, j in zip(llama, labels)]\n",
    "np.mean(agreement)"
   ]
  },
  {
   "cell_type": "code",
   "execution_count": 28,
   "metadata": {},
   "outputs": [
    {
     "data": {
      "text/plain": [
       "(53, 49, 4)"
      ]
     },
     "execution_count": 28,
     "metadata": {},
     "output_type": "execute_result"
    }
   ],
   "source": [
    "sum(gpt4), sum(labels), sum(llama)"
   ]
  },
  {
   "cell_type": "code",
   "execution_count": 30,
   "metadata": {},
   "outputs": [],
   "source": [
    "gpt4 = json.load(open('data/gpt4_labels.json'))['label'][:100]\n",
    "llama = json.load(open('llama_labels.json'))\n",
    "philipp = json.load(open('philpp_labels.json'))\n",
    "philipp = json.load(open('philpp_labels.json'))"
   ]
  },
  {
   "cell_type": "code",
   "execution_count": 31,
   "metadata": {},
   "outputs": [
    {
     "data": {
      "text/plain": [
       "([0, 0, 1, 1, 1], [0, 0, 1, 1, 1], [0, 0, 0, 0, 0])"
      ]
     },
     "execution_count": 31,
     "metadata": {},
     "output_type": "execute_result"
    }
   ],
   "source": [
    "philipp[:5], gpt4[:5], llama[:5]"
   ]
  },
  {
   "cell_type": "code",
   "execution_count": 42,
   "metadata": {},
   "outputs": [
    {
     "name": "stdout",
     "output_type": "stream",
     "text": [
      "0.8\n",
      "0.65\n",
      "0.67\n"
     ]
    }
   ],
   "source": [
    "gpt4 = json.load(open('data/gpt4_labels.json'))['label'][:100]\n",
    "llama = json.load(open('llama_labels.json'))\n",
    "philipp = json.load(open('philpp_labels.json'))\n",
    "philipp = json.load(open('philpp_labels.json'))\n",
    "\n",
    "agreement_philipp_gpt4 = np.mean([i == j for i, j in zip(philipp, gpt4)])\n",
    "print(agreement_philipp_gpt4)\n",
    "agreement_philipp_llama = np.mean([i == j for i, j in zip(philipp, should_ask_questions)])\n",
    "print(agreement_philipp_llama)\n",
    "agreement_gpt4_llama = np.mean([i == j for i, j in zip(gpt4, should_ask_questions)])\n",
    "print(agreement_gpt4_llama)\n",
    "\n",
    "breakpoint()"
   ]
  },
  {
   "cell_type": "code",
   "execution_count": 1,
   "metadata": {},
   "outputs": [],
   "source": [
    "import numpy as np"
   ]
  },
  {
   "cell_type": "code",
   "execution_count": 3,
   "metadata": {},
   "outputs": [
    {
     "data": {
      "text/plain": [
       "3"
      ]
     },
     "execution_count": 3,
     "metadata": {},
     "output_type": "execute_result"
    }
   ],
   "source": [
    "a = np.array([1, 2, 3, 3])\n",
    "np.argmax(np.bincount(a))"
   ]
  },
  {
   "cell_type": "code",
   "execution_count": 4,
   "metadata": {},
   "outputs": [],
   "source": [
    "import json\n",
    "conversations = json.load(open('data/conversations_human_assistant_instruct.json'))"
   ]
  },
  {
   "cell_type": "code",
   "execution_count": 5,
   "metadata": {},
   "outputs": [],
   "source": [
    "conversation_dict = {}\n",
    "for prompt_id, user_id, prompt, attempt, question, response in zip(*conversations.values()):\n",
    "    conversation_key = f\"prompt_{prompt_id}_user_{user_id}_attempt_{attempt}\"\n",
    "    conversation_dict[conversation_key] = {\"prompt\": prompt, \"question\": question, \"response\": response}"
   ]
  },
  {
   "cell_type": "code",
   "execution_count": 13,
   "metadata": {},
   "outputs": [
    {
     "name": "stderr",
     "output_type": "stream",
     "text": [
      "/scr/jphilipp/miniconda3/envs/stargate/lib/python3.10/site-packages/huggingface_hub/file_download.py:1132: FutureWarning: `resume_download` is deprecated and will be removed in version 1.0.0. Downloads always resume when possible. If you want to force a new download, use `force_download=True`.\n",
      "  warnings.warn(\n",
      "Special tokens have been added in the vocabulary, make sure the associated word embeddings are fine-tuned or trained.\n"
     ]
    }
   ],
   "source": [
    "messages = [{\"role\": \"user\", \"content\": \"Hi how are you?\"}, \n",
    "            {\"role\": \"assistant\", \"content\": \"I am good how are you?\"},\n",
    "            {\"role\": \"user\", \"content\": \"Thanks I am great! What are you up to?\"},\n",
    "            {\"role\": \"assistant\", \"content\": \"Not much!\"}]\n",
    "\n",
    "from transformers import AutoTokenizer\n",
    "\n",
    "tokenizer = AutoTokenizer.from_pretrained(\n",
    "    pretrained_model_name_or_path=\"meta-llama/Meta-Llama-3-8B-Instruct\",\n",
    "    cache_dir=\"/scr/jphilipp/stargate/pretrained_models/Meta-Llama-3-8B-Instruct\",\n",
    "    model_max_length=2048\n",
    "    )\n",
    "\n",
    "tokenizer.pad_token, tokenizer.padding_side = tokenizer.eos_token, \"right\""
   ]
  },
  {
   "cell_type": "code",
   "execution_count": 85,
   "metadata": {},
   "outputs": [
    {
     "data": {
      "text/plain": [
       "{'input_ids': tensor([128000, 128006,    882, 128007,    271,  13347,   1268,    527,    499,\n",
       "             30, 128009, 128000, 128006,  78191, 128007,    271,     40,   1097,\n",
       "           1695,   1268,    527,    499,     30, 128009, 128000, 128006,    882,\n",
       "         128007,    271,  12947,    358,   1097,   2294,      0,   3639,    527,\n",
       "            499,    709,    311,     30, 128009, 128000, 128006,  78191, 128007,\n",
       "            271,   2688,   1790,      0, 128009]),\n",
       " 'labels': tensor([  -100,   -100,   -100,   -100,   -100,   -100,   -100,   -100,   -100,\n",
       "           -100,   -100, 128000, 128006,  78191, 128007,    271,     40,   1097,\n",
       "           1695,   1268,    527,    499,     30, 128009,   -100,   -100,   -100,\n",
       "           -100,   -100,   -100,   -100,   -100,   -100,   -100,   -100,   -100,\n",
       "           -100,   -100,   -100,   -100,   -100, 128000, 128006,  78191, 128007,\n",
       "            271,   2688,   1790,      0, 128009]),\n",
       " 'attention_mask': tensor([1, 1, 1, 1, 1, 1, 1, 1, 1, 1, 1, 1, 1, 1, 1, 1, 1, 1, 1, 1, 1, 1, 1, 1,\n",
       "         1, 1, 1, 1, 1, 1, 1, 1, 1, 1, 1, 1, 1, 1, 1, 1, 1, 1, 1, 1, 1, 1, 1, 1,\n",
       "         1, 1])}"
      ]
     },
     "execution_count": 85,
     "metadata": {},
     "output_type": "execute_result"
    }
   ],
   "source": [
    "import copy\n",
    "import torch\n",
    "\n",
    "def _tokenize_fn(\n",
    "    messages,\n",
    "    tokenizer,\n",
    "    IGNORE_INDEX=-100,\n",
    "):\n",
    "    # tokenize messages \n",
    "    inputs, labels = {}, {}\n",
    "    for turn, _ in enumerate(messages):\n",
    "        tokenized = tokenizer.apply_chat_template(\n",
    "                messages[turn:turn + 1],\n",
    "                return_tensors=\"pt\",\n",
    "                padding=\"longest\",\n",
    "                max_length=tokenizer.model_max_length,\n",
    "                truncation=True,\n",
    "            )[0]\n",
    "\n",
    "        inputs[turn] = tokenized\n",
    "    \n",
    "        # labels (mask user turns which are every second; currently not using system messages)\n",
    "        if turn % 2 == 0:\n",
    "            labels[turn] = torch.tensor(IGNORE_INDEX, dtype=torch.long).repeat(tokenized.shape[0])\n",
    "        else:\n",
    "            labels[turn] = tokenized\n",
    "    \n",
    "    input_ids = torch.cat([tokenized for tokenized in inputs.values()], dim=0)\n",
    "    labels = torch.cat([tokenized for tokenized in labels.values()], dim=0)\n",
    "    \n",
    "    return dict(\n",
    "        input_ids=input_ids,\n",
    "        labels=labels,\n",
    "        attention_mask=torch.ones_like(input_ids),\n",
    "    )\n",
    "    \n",
    "\n",
    "output = _tokenize_fn(messages=messages, tokenizer=tokenizer)"
   ]
  },
  {
   "cell_type": "code",
   "execution_count": 82,
   "metadata": {},
   "outputs": [
    {
     "name": "stdout",
     "output_type": "stream",
     "text": [
      "!!!!!!!!!!!<|begin_of_text|><|start_header_id|>assistant<|end_header_id|>\n",
      "\n",
      "I am good how are you?<|eot_id|>!!!!!!!!!!!!!!!!!<|begin_of_text|><|start_header_id|>assistant<|end_header_id|>\n",
      "\n",
      "Not much!<|eot_id|>\n"
     ]
    }
   ],
   "source": [
    "print(tokenizer.decode(output['labels']))"
   ]
  },
  {
   "cell_type": "code",
   "execution_count": 20,
   "metadata": {},
   "outputs": [
    {
     "data": {
      "text/plain": [
       "tensor([128000, 128006,    882, 128007,    271,  13347,   1268,    527,    499,\n",
       "            30, 128009, 128006,  78191, 128007,    271,     40,   1097,   1695,\n",
       "          1268,    527,    499,     30, 128009, 128006,    882, 128007,    271,\n",
       "         12947,    358,   1097,   2294,      0,   3639,    527,    499,    709,\n",
       "           311,     30, 128009, 128006,  78191, 128007,    271,   2688,   1790,\n",
       "             0, 128009])"
      ]
     },
     "execution_count": 20,
     "metadata": {},
     "output_type": "execute_result"
    }
   ],
   "source": [
    "output['input_ids']"
   ]
  },
  {
   "cell_type": "code",
   "execution_count": 23,
   "metadata": {},
   "outputs": [
    {
     "data": {
      "text/plain": [
       "tensor([  -100,   -100,   -100,   -100,   -100,   -100,   -100,   -100,   -100,\n",
       "          -100,   -100, 128006,  78191, 128007,    271,     40,   1097,   1695,\n",
       "          1268,    527,    499,     30, 128009,   -100,   -100,   -100,   -100,\n",
       "          -100,   -100,   -100,   -100,   -100,   -100,   -100,   -100,   -100,\n",
       "          -100,   -100,   -100, 128006,  78191, 128007,    271,   2688,   1790,\n",
       "             0, 128009])"
      ]
     },
     "execution_count": 23,
     "metadata": {},
     "output_type": "execute_result"
    }
   ],
   "source": [
    "output['labels']"
   ]
  },
  {
   "cell_type": "code",
   "execution_count": 26,
   "metadata": {},
   "outputs": [
    {
     "data": {
      "text/plain": [
       "'<|start_header_id|>assistant<|end_header_id|>\\n\\nNot much!<|eot_id|>'"
      ]
     },
     "execution_count": 26,
     "metadata": {},
     "output_type": "execute_result"
    }
   ],
   "source": [
    "tokenizer.decode([128006,  78191, 128007,    271,     40,   1097,   1695, 1268,    527,    499,     30, 128009])\n",
    "tokenizer.decode([128006,  78191, 128007,    271,   2688,   1790, 0, 128009])"
   ]
  },
  {
   "cell_type": "code",
   "execution_count": null,
   "metadata": {},
   "outputs": [],
   "source": []
  }
 ],
 "metadata": {
  "kernelspec": {
   "display_name": "stargate",
   "language": "python",
   "name": "python3"
  },
  "language_info": {
   "codemirror_mode": {
    "name": "ipython",
    "version": 3
   },
   "file_extension": ".py",
   "mimetype": "text/x-python",
   "name": "python",
   "nbconvert_exporter": "python",
   "pygments_lexer": "ipython3",
   "version": "3.10.0"
  }
 },
 "nbformat": 4,
 "nbformat_minor": 2
}
