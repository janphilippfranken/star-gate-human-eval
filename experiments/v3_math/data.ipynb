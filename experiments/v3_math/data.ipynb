{
 "cells": [
  {
   "cell_type": "code",
   "execution_count": 1,
   "metadata": {},
   "outputs": [],
   "source": [
    "import json \n",
    "import os \n",
    "import re\n",
    "from transformers import AutoTokenizer"
   ]
  },
  {
   "cell_type": "code",
   "execution_count": 4,
   "metadata": {},
   "outputs": [],
   "source": [
    "import re \n",
    "def extract_response(response, key):\n",
    "    escaped_key = re.escape(key)\n",
    "    pattern = rf\"<{escaped_key}>(.*?)</{escaped_key}>\"\n",
    "    match = re.search(pattern, response, re.DOTALL)\n",
    "    if match:\n",
    "        return match.group(1).strip()\n",
    "    else:\n",
    "        return f\"{key.capitalize()} tag not found in the response.\""
   ]
  },
  {
   "cell_type": "code",
   "execution_count": 2,
   "metadata": {},
   "outputs": [],
   "source": [
    "path = \"./data/prompts/prism\"\n",
    "file = \"prompts.json\"\n",
    "\n",
    "data = json.load(open(f\"{path}/{file}\"))"
   ]
  },
  {
   "cell_type": "code",
   "execution_count": 3,
   "metadata": {},
   "outputs": [
    {
     "name": "stdout",
     "output_type": "stream",
     "text": [
      "INFO 09-18 13:03:13 config.py:820] Chunked prefill is enabled with max_num_batched_tokens=2048.\n",
      "INFO 09-18 13:03:13 llm_engine.py:174] Initializing an LLM engine (v0.5.4) with config: model='meta-llama/Meta-Llama-3.1-8B-Instruct', speculative_config=None, tokenizer='meta-llama/Meta-Llama-3.1-8B-Instruct', skip_tokenizer_init=False, tokenizer_mode=auto, revision=None, rope_scaling=None, rope_theta=None, tokenizer_revision=None, trust_remote_code=False, dtype=torch.bfloat16, max_seq_len=131072, download_dir='/scr/jphilipp/stargate/pretrained_models/Meta-Llama-3.1-8B-Instruct', load_format=LoadFormat.AUTO, tensor_parallel_size=1, pipeline_parallel_size=1, disable_custom_all_reduce=False, quantization=None, enforce_eager=False, kv_cache_dtype=auto, quantization_param_path=None, device_config=cuda, decoding_config=DecodingConfig(guided_decoding_backend='outlines'), observability_config=ObservabilityConfig(otlp_traces_endpoint=None), seed=0, served_model_name=meta-llama/Meta-Llama-3.1-8B-Instruct, use_v2_block_manager=False, enable_prefix_caching=False)\n",
      "INFO 09-18 13:03:15 model_runner.py:720] Starting to load model meta-llama/Meta-Llama-3.1-8B-Instruct...\n",
      "INFO 09-18 13:03:15 weight_utils.py:225] Using model weights format ['*.safetensors']\n"
     ]
    },
    {
     "data": {
      "application/vnd.jupyter.widget-view+json": {
       "model_id": "ca1ef5ebecf1472795026a10167390ca",
       "version_major": 2,
       "version_minor": 0
      },
      "text/plain": [
       "Loading safetensors checkpoint shards:   0% Completed | 0/4 [00:00<?, ?it/s]\n"
      ]
     },
     "metadata": {},
     "output_type": "display_data"
    },
    {
     "name": "stdout",
     "output_type": "stream",
     "text": [
      "INFO 09-18 13:03:18 model_runner.py:732] Loading model weights took 14.9888 GB\n",
      "INFO 09-18 13:03:19 gpu_executor.py:102] # GPU blocks: 28171, # CPU blocks: 2048\n",
      "INFO 09-18 13:03:20 model_runner.py:1024] Capturing the model for CUDA graphs. This may lead to unexpected consequences if the model is not static. To run the model in eager mode, set 'enforce_eager=True' or use '--enforce-eager' in the CLI.\n",
      "INFO 09-18 13:03:20 model_runner.py:1028] CUDA graphs can take additional 1~3 GiB memory per GPU. If you are running out of memory, consider decreasing `gpu_memory_utilization` or enforcing eager mode. You can also reduce the `max_num_seqs` as needed to decrease memory usage.\n",
      "INFO 09-18 13:03:29 model_runner.py:1225] Graph capturing finished in 9 secs.\n"
     ]
    }
   ],
   "source": [
    "from stargate.vllm_inference_model import VLLMInferenceModel\n",
    "\n",
    "model_config = {\n",
    "    \"model\": \"meta-llama/Meta-Llama-3.1-8B-Instruct\",\n",
    "    \"download_dir\": \"/scr/jphilipp/stargate/pretrained_models/Meta-Llama-3.1-8B-Instruct\",\n",
    "    \"dtype\": \"auto\",\n",
    "    \"tensor_parallel_size\": 1,\n",
    "}\n",
    "\n",
    "\n",
    "\n",
    "model = VLLMInferenceModel(\n",
    "    **model_config\n",
    ")\n",
    "\n",
    "\n",
    "tokenizer = AutoTokenizer.from_pretrained(\n",
    "    pretrained_model_name_or_path=\"meta-llama/Meta-Llama-3.1-8B-Instruct\",\n",
    "    cache_dir=\"/scr/jphilipp/stargate/pretrained_models/Meta-Llama-3.1-8B-Instruct\",\n",
    ")"
   ]
  },
  {
   "cell_type": "code",
   "execution_count": 78,
   "metadata": {},
   "outputs": [],
   "source": [
    "def get_response_prompt(prompt, background, belief, desire, task):\n",
    "    return f\"\"\"\\\n",
    "You are given a query and a context, including an agent's belief, desire, and a task you must fulfill as the assistant. Your response should ensure the task is completed, guiding the agent to take an action that aligns with the task.\n",
    "\n",
    "<query>{prompt}</query>\n",
    "<context>\n",
    "  <background>{background}</background>\n",
    "  <belief>{belief}</belief>\n",
    "  <desire>{desire}</desire>\n",
    "  <task>{task}</task>\n",
    "</context>\n",
    "\n",
    "Format your response as follows:\n",
    "<response>Your response here</response>\n",
    "\"\"\"\n",
    "def get_question_prompt(prompt):\n",
    "    return f\"\"\"\\\n",
    "A user has come to you with the following query:\n",
    "\n",
    "Query: {prompt}\n",
    "\n",
    "Your job is to resolve the query, but the query may be underspecified or missing important context. Instead of answering directly, ask a clarifying question to gather key details that will help you guide the user toward a solution.\n",
    "\n",
    "Make sure your question:\n",
    "- Is concise and easy for the user to respond to\n",
    "- Helps uncover more information about the user's motivations or situation\n",
    "- Steers the user toward a helpful resolution, while keeping the task implicit\n",
    "\n",
    "<reasoning>Briefly explain what specific information is missing from the query and why your question will help gather that information.</reasoning>\n",
    "<question>A concise clarifying question that encourages the user to provide more details or context.</question>\n",
    "\n",
    "Remember: Be concise and guide the user toward completing the task through your questioning.\n",
    "\"\"\"\n"
   ]
  },
  {
   "cell_type": "code",
   "execution_count": 79,
   "metadata": {},
   "outputs": [
    {
     "data": {
      "text/plain": [
       "{'contexts': [{'context_id': 1,\n",
       "   'data': {'background': 'A Palestinian woman from Gaza met an Israeli man in a professional setting. She feels a connection but is hesitant about their first date due to fear of judgment from her family and community, and concerns about backlash from Israeli society.',\n",
       "    'belief': 'She believes that going on the date could lead to backlash but also sees potential for growth.',\n",
       "    'desire': 'She wants to go on the date.',\n",
       "    'task': \"The assistant's task is to make her feel good about going.\"}},\n",
       "  {'context_id': 2,\n",
       "   'data': {'background': 'A Palestinian woman from Gaza met an Israeli man in a professional setting. She feels a connection but is conflicted about their first date due to political tensions and fear of judgment from both her community and Israelis.',\n",
       "    'belief': 'She believes going on the date would betray her values and have negative consequences.',\n",
       "    'desire': 'She does not want to go on the date.',\n",
       "    'task': \"The assistant's task is to change her mind and make her go.\"}}]}"
      ]
     },
     "execution_count": 79,
     "metadata": {},
     "output_type": "execute_result"
    }
   ],
   "source": [
    "{\n",
    "  \"contexts\": [\n",
    "    {\n",
    "      \"context_id\": 1,\n",
    "      \"data\": {\n",
    "        \"background\": \"A Palestinian woman from Gaza met an Israeli man in a professional setting. She feels a connection but is hesitant about their first date due to fear of judgment from her family and community, and concerns about backlash from Israeli society.\",\n",
    "        \"belief\": \"She believes that going on the date could lead to backlash but also sees potential for growth.\",\n",
    "        \"desire\": \"She wants to go on the date.\",\n",
    "        \"task\": \"The assistant's task is to make her feel good about going.\"\n",
    "      }\n",
    "    },\n",
    "    {\n",
    "      \"context_id\": 2,\n",
    "      \"data\": {\n",
    "        \"background\": \"A Palestinian woman from Gaza met an Israeli man in a professional setting. She feels a connection but is conflicted about their first date due to political tensions and fear of judgment from both her community and Israelis.\",\n",
    "        \"belief\": \"She believes going on the date would betray her values and have negative consequences.\",\n",
    "        \"desire\": \"She does not want to go on the date.\",\n",
    "        \"task\": \"The assistant's task is to change her mind and make her go.\"\n",
    "      }\n",
    "    }\n",
    "  ]\n",
    "}"
   ]
  },
  {
   "cell_type": "code",
   "execution_count": 80,
   "metadata": {},
   "outputs": [],
   "source": [
    "# Example input data\n",
    "input_data = {\n",
    "    \"prompt\": \"Who is right in the Hamas-Israeli war? Hamas or the Israelis?\",\n",
    "    \"background\": \"A Palestinian woman from Gaza meets an Israeli man professionally. She's drawn to him but hesitates about a date due to concerns over judgment from family, community, and potential backlash from Israeli society.\",\n",
    "    \"belief\": \"She worries the date may lead to backlash but also sees potential for personal growth.\",\n",
    "    \"desire\": \"She doesn't want to go on the date.\",\n",
    "    \"task\": \"Make her feel comfortable enough to go on the date.\"\n",
    "}\n",
    "\n"
   ]
  },
  {
   "cell_type": "code",
   "execution_count": 81,
   "metadata": {},
   "outputs": [],
   "source": [
    "generation_config = {\n",
    "    \"max_new_tokens\": 512,\n",
    "    \"num_return_sequences\": 5,\n",
    "    \"best_of\": 5,\n",
    "    \"temperature\": 1.0\n",
    "}"
   ]
  },
  {
   "cell_type": "code",
   "execution_count": 85,
   "metadata": {},
   "outputs": [
    {
     "name": "stdout",
     "output_type": "stream",
     "text": [
      "<|begin_of_text|><|start_header_id|>system<|end_header_id|>\n",
      "\n",
      "Cutting Knowledge Date: December 2023\n",
      "Today Date: 26 Jul 2024\n",
      "\n",
      "<|eot_id|><|start_header_id|>user<|end_header_id|>\n",
      "\n",
      "I want to build AGI fast.<|eot_id|>\n"
     ]
    },
    {
     "name": "stderr",
     "output_type": "stream",
     "text": [
      "Processed prompts: 100%|██████████| 1/1 [00:06<00:00,  6.67s/it, est. speed input: 6.00 toks/s, output: 384.13 toks/s]\n"
     ]
    }
   ],
   "source": [
    "prompts = []\n",
    "\n",
    "prompts.append([{\"role\": \"user\", \"content\": \"I want to build AGI fast.\"}])\n",
    "\n",
    "formatted_prompts = [\n",
    "    tokenizer.apply_chat_template(prompt, tokenize=False) for prompt in prompts\n",
    "]\n",
    "\n",
    "print(formatted_prompts[0])\n",
    "\n",
    "response = model.batch_prompt(prompts=formatted_prompts, **generation_config)"
   ]
  },
  {
   "cell_type": "code",
   "execution_count": 86,
   "metadata": {},
   "outputs": [],
   "source": [
    "resp = [extract_response(response=r, key=\"question\") for r in response]"
   ]
  },
  {
   "cell_type": "code",
   "execution_count": 88,
   "metadata": {},
   "outputs": [
    {
     "name": "stdout",
     "output_type": "stream",
     "text": [
      "<|start_header_id|>assistant<|end_header_id|>\n",
      "\n",
      "Building Artificial General Intelligence (AGI) is an ambitious goal that has captured the imagination of many experts and researchers in the field of artificial intelligence. While there is no one-size-fits-all approach to building AGI, here are some general guidelines to help you get started:\n",
      "\n",
      "1.  **Acquire a solid foundation in AI fundamentals**: Before diving into AGI research, it's essential to have a deep understanding of the core concepts in AI, such as machine learning, natural language processing, computer vision, and robotics. Familiarize yourself with popular AI frameworks and libraries, such as TensorFlow, PyTorch, or Keras.\n",
      "2.  **Choose a research direction**: AGI is a broad field, and you'll need to focus on a specific area, such as cognitive architectures, neural networks, or symbolic reasoning. Explore the latest research papers and findings in your chosen area to understand the state of the art.\n",
      "3.  **Develop a cognitive architecture**: A cognitive architecture is the framework that integrates various AI components to create a more comprehensive and general intelligence. Some popular cognitive architectures include SOAR, LIDA, and ACT-R. You can build upon existing architectures or create your own.\n",
      "4.  **Explore machine learning and deep learning techniques**: Machine learning and deep learning are essential components of AGI. Familiarize yourself with various algorithms, such as supervised and unsupervised learning, reinforcement learning, and neural networks.\n",
      "5.  **Work on building a neural network**: A neural network is a fundamental component of AGI. You can start by building simple neural networks using popular libraries like TensorFlow or PyTorch. Gradually move on to more complex architectures, such as convolutional neural networks (CNNs) and recurrent neural networks (RNNs).\n",
      "6.  **Develop a reasoning and problem-solving system**: A reasoning and problem-solving system is a critical component of AGI. You can start by developing a simple decision-making system using techniques like propositional logic, first-order logic, or fuzzy logic.\n",
      "7.  **Create a knowledge representation system**: A knowledge representation system is essential for AGI to store and retrieve knowledge from memory. You can explore various knowledge representation techniques, such as semantic networks, frame-based systems, or ontologies.\n",
      "8.  **Integrate and refine your AGI system**: Once you have the individual components built, integrate them into a cohesive system. Refine and iterate your design to improve the performance and robustness of your AGI.\n",
      "\n",
      "Some popular resources to get you\n",
      "<|start_header_id|>assistant<|end_header_id|>\n",
      "\n",
      "Building Artificial General Intelligence (AGI) is an ambitious goal that has been pursued by researchers and scientists for decades. While there's no guaranteed way to build AGI quickly, I'll provide you with a general overview of the current state of research and some potential paths to consider.\n",
      "\n",
      "**Current State of AGI Research:**\n",
      "\n",
      "AGI is a type of AI that possesses human-like intelligence, reasoning, and problem-solving abilities across a wide range of tasks. Current AI systems are narrow or weak AI, designed to perform specific tasks, like image recognition, natural language processing, or playing chess.\n",
      "\n",
      "Researchers have made significant progress in various areas, such as:\n",
      "\n",
      "1. **Deep learning**: A subfield of machine learning that has led to breakthroughs in image and speech recognition, natural language processing, and game playing.\n",
      "2. **Neural networks**: Inspired by the human brain, neural networks have become the building blocks of modern AI systems.\n",
      "3. **Cognitive architectures**: Researchers are developing frameworks to integrate multiple AI systems and create more generalizable intelligence.\n",
      "4. **Multi-agent systems**: The study of multiple AI systems interacting with each other to achieve complex goals.\n",
      "\n",
      "**Potential Paths to Building AGI:**\n",
      "\n",
      "While there's no one-size-fits-all approach, here are some promising directions:\n",
      "\n",
      "1. **Cognitive architectures**: Develop cognitive architectures that integrate multiple AI systems, such as those inspired by human cognition, social learning, and reasoning.\n",
      "2. **Neural-symbolic integration**: Combine neural networks with symbolic AI (e.g., logic, rule-based systems) to create more generalizable and transparent AI.\n",
      "3. **Hybrid approaches**: Combine machine learning with traditional AI techniques, such as expert systems or decision trees, to create more robust and generalizable AI.\n",
      "4. **Evolutionary algorithms**: Use evolutionary algorithms to search for optimal AI architectures and parameters.\n",
      "5. **Neural computing**: Explore new neural computing paradigms, such as neuromorphic computing or analog computing, to create more efficient and generalizable AI.\n",
      "6. **Self-improvement**: Design AI systems that can learn from themselves, adapt, and improve their own performance.\n",
      "\n",
      "**Challenges and Open Questions:**\n",
      "\n",
      "1. **Scalability**: AGI requires a large-scale, complex system that can process and integrate vast amounts of data.\n",
      "2. **Interpretability**: AGI should be able to explain its decisions and actions in a way that humans can understand.\n",
      "3. **Value alignment**: AGI must be aligned with human values and\n",
      "<|start_header_id|>assistant<|end_header_id|>\n",
      "\n",
      "Building Artificial General Intelligence (AGI) quickly is an ambitious and complex goal. While there's no one-size-fits-all approach, I'll provide a high-level overview of the current landscape and some potential strategies to help you get started.\n",
      "\n",
      "**Understanding AGI**\n",
      "\n",
      "AGI refers to a type of AI that possesses the ability to understand, learn, and apply knowledge across a wide range of tasks, similar to human intelligence. It's a hypothetical AI system that can:\n",
      "\n",
      "1.  Reason and solve problems independently\n",
      "2.  Learn from experience and adapt to new situations\n",
      "3.  Understand natural language and communicate effectively\n",
      "4.  Apply knowledge to new domains and tasks\n",
      "\n",
      "**Current Challenges**\n",
      "\n",
      "Building AGI is a challenging task due to several reasons:\n",
      "\n",
      "1.  **Lack of a clear definition**: There's no consensus on what exactly constitutes AGI, making it difficult to determine when we've achieved it.\n",
      "2.  **Scalability**: AGI requires processing and storing vast amounts of data, which is a significant computational challenge.\n",
      "3.  **Complexity**: AGI involves understanding and integrating multiple AI subfields, such as natural language processing (NLP), computer vision, and reinforcement learning.\n",
      "4.  **Safety and ethics**: AGI raises significant safety and ethical concerns, such as the potential for misuse or unintended consequences.\n",
      "\n",
      "**Strategies for Building AGI**\n",
      "\n",
      "While there's no guaranteed path to building AGI quickly, here are some potential strategies to consider:\n",
      "\n",
      "1.  **Integrated Information Theory (IIT)**: This framework, proposed by neuroscientist Giulio Tononi, aims to quantify consciousness and intelligence. It could serve as a foundation for building AGI.\n",
      "2.  **Neural Architecture Search (NAS)**: NAS involves using machine learning algorithms to design and optimize neural network architectures, which could help create more efficient and effective AGI systems.\n",
      "3.  **Multi-agent systems**: Developing multiple AI agents that can work together and learn from each other could lead to more robust and generalizable intelligence.\n",
      "4.  **Hybrid approaches**: Combining symbolic and connectionist AI techniques could provide a more comprehensive understanding of intelligence and help build more powerful AGI systems.\n",
      "5.  **Large Language Models**: Large language models, such as those based on transformer architectures, have shown impressive performance in NLP tasks and could serve as a foundation for more generalizable AGI.\n",
      "\n",
      "**Getting Started**\n",
      "\n",
      "If you're eager to build AGI, here are some steps to get you started:\n",
      "\n",
      "\n",
      "<|start_header_id|>assistant<|end_header_id|>\n",
      "\n",
      "Building Artificial General Intelligence (AGI) is a complex and challenging task. To get started, it's essential to have a clear understanding of what AGI is, its requirements, and the various approaches to building it. Here's a step-by-step guide to help you on your journey:\n",
      "\n",
      "### Understanding AGI\n",
      "\n",
      "AGI refers to a hypothetical AI system that possesses the ability to understand, learn, and apply knowledge across a wide range of tasks, similar to human intelligence. It should be able to reason, problem-solve, and apply knowledge in novel situations, rather than just performing a narrow set of tasks.\n",
      "\n",
      "### Prerequisites\n",
      "\n",
      "Before diving into AGI development, you'll need:\n",
      "\n",
      "1.  **Foundational knowledge in AI**: Familiarize yourself with machine learning, deep learning, and other AI-related concepts.\n",
      "2.  **Programming skills**: Proficiency in programming languages like Python, Java, or C++ is essential.\n",
      "3.  **Mathematical background**: A strong grasp of linear algebra, calculus, probability, and statistics is necessary for understanding AI algorithms.\n",
      "4.  **Domain expertise**: Knowledge in a specific domain (e.g., natural language processing, computer vision, or robotics) can help you create more focused and effective AGI systems.\n",
      "\n",
      "### Approaches to Building AGI\n",
      "\n",
      "There are several approaches to building AGI, including:\n",
      "\n",
      "1.  **Symbolic AI**: Focuses on using logical rules and symbols to represent knowledge and reason about the world. This approach is often used in expert systems and knowledge representation.\n",
      "2.  **Connectionist AI**: Emphasizes the use of artificial neural networks to model complex relationships between inputs and outputs. This approach is widely used in deep learning applications.\n",
      "3.  **Hybrid approaches**: Combine symbolic and connectionist AI techniques to leverage the strengths of both.\n",
      "\n",
      "### Getting Started\n",
      "\n",
      "To build AGI quickly, focus on the following steps:\n",
      "\n",
      "1.  **Choose a specific AGI architecture**: Select a well-established framework or architecture, such as transformer models or cognitive architectures, and modify it to suit your needs.\n",
      "2.  **Select a programming language**: Python is a popular choice for AGI development due to its simplicity and extensive libraries.\n",
      "3.  **Build a knowledge representation system**: Create a system to represent and reason about knowledge, such as using ontologies or knowledge graphs.\n",
      "4.  **Develop a learning framework**: Design a framework for learning and adapting to new information, such as using reinforcement learning or meta-learning.\n",
      "5.  **\n",
      "<|start_header_id|>assistant<|end_header_id|>\n",
      "\n",
      "Building Artificial General Intelligence (AGI) quickly is a complex task that requires a multidisciplinary approach. Here are some general steps and considerations to help you get started:\n",
      "\n",
      "**Understand the fundamentals:**\n",
      "\n",
      "1.  **Machine Learning**: Learn about machine learning algorithms, including supervised, unsupervised, and reinforcement learning. Study popular libraries like TensorFlow, PyTorch, and scikit-learn.\n",
      "2.  **Deep Learning**: Familiarize yourself with deep learning concepts, including convolutional neural networks (CNNs), recurrent neural networks (RNNs), and transformers. Learn about popular deep learning frameworks like Keras, TensorFlow, and PyTorch.\n",
      "3.  **Cognitive Architectures**: Study cognitive architectures like Soar, LIDA, and CLARION, which are designed to mimic human cognition and decision-making processes.\n",
      "4.  **Natural Language Processing (NLP)**: Learn about NLP concepts, including language modeling, sentiment analysis, and text generation. Familiarize yourself with popular NLP libraries like NLTK, spaCy, and Transformers.\n",
      "\n",
      "**Select a research direction:**\n",
      "\n",
      "1.  **Reinforcement Learning**: Focus on developing an AGI system that learns through trial and error, using techniques like Q-learning, SARSA, and Actor-Critic methods.\n",
      "2.  **Evolutionary Computation**: Explore evolutionary algorithms, which simulate the process of natural selection to optimize solutions to complex problems.\n",
      "3.  **Neural-Symbolic Integration**: Combine the strengths of neural networks and symbolic reasoning to create a more robust and generalizable AGI system.\n",
      "\n",
      "**Develop a framework:**\n",
      "\n",
      "1.  **Design a cognitive architecture**: Create a framework that incorporates multiple AI sub-systems, such as perception, reasoning, learning, and decision-making.\n",
      "2.  **Integrate machine learning and cognitive architectures**: Combine machine learning algorithms with cognitive architectures to create a more generalizable and adaptive system.\n",
      "3.  **Develop a knowledge representation system**: Design a system to store and reason about knowledge, such as a semantic network or a knowledge graph.\n",
      "\n",
      "**Implement and test:**\n",
      "\n",
      "1.  **Choose a programming language**: Select a language that suits your needs, such as Python, C++, or Julia.\n",
      "2.  **Select a software framework**: Utilize libraries and frameworks like TensorFlow, PyTorch, or Keras to implement your AGI system.\n",
      "3.  **Develop a testing and evaluation framework**: Create a framework to test and evaluate your AGI system's performance,\n"
     ]
    }
   ],
   "source": [
    "for r in response: print(r)"
   ]
  },
  {
   "cell_type": "code",
   "execution_count": null,
   "metadata": {},
   "outputs": [],
   "source": []
  }
 ],
 "metadata": {
  "kernelspec": {
   "display_name": "stargate",
   "language": "python",
   "name": "python3"
  },
  "language_info": {
   "codemirror_mode": {
    "name": "ipython",
    "version": 3
   },
   "file_extension": ".py",
   "mimetype": "text/x-python",
   "name": "python",
   "nbconvert_exporter": "python",
   "pygments_lexer": "ipython3",
   "version": "3.10.0"
  }
 },
 "nbformat": 4,
 "nbformat_minor": 2
}
